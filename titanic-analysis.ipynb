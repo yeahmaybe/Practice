{
 "metadata": {
  "kernelspec": {
   "language": "python",
   "display_name": "Python 3",
   "name": "python3"
  },
  "language_info": {
   "pygments_lexer": "ipython3",
   "nbconvert_exporter": "python",
   "version": "3.6.4",
   "file_extension": ".py",
   "codemirror_mode": {
    "name": "ipython",
    "version": 3
   },
   "name": "python",
   "mimetype": "text/x-python"
  }
 },
 "nbformat_minor": 4,
 "nbformat": 4,
 "cells": [
  {
   "cell_type": "code",
   "source": [
    "import numpy as np\n",
    "import pandas as pd\n",
    "import matplotlib.pyplot as plt\n",
    "import seaborn as sns\n",
    "\n",
    "from sklearn.preprocessing import StandardScaler\n",
    "from sklearn.model_selection import cross_validate, GridSearchCV\n",
    "from sklearn.neighbors import KNeighborsClassifier\n",
    "from sklearn.linear_model import LogisticRegression\n",
    "from sklearn.tree import DecisionTreeClassifier\n",
    "from sklearn.ensemble import RandomForestClassifier\n",
    "from sklearn.svm import SVC\n",
    "from sklearn.neural_network import MLPClassifier\n",
    "from xgboost import XGBClassifier\n",
    "from lightgbm import LGBMClassifier\n",
    "from sklearn.metrics import classification_report"
   ],
   "metadata": {
    "_uuid": "8f2839f25d086af736a60e9eeb907d3b93b6e0e5",
    "_cell_guid": "b1076dfc-b9ad-4769-8c92-a6c4dae69d19",
    "execution": {
     "iopub.status.busy": "2022-07-16T17:55:32.322225Z",
     "iopub.execute_input": "2022-07-16T17:55:32.322764Z",
     "iopub.status.idle": "2022-07-16T17:55:32.335040Z",
     "shell.execute_reply.started": "2022-07-16T17:55:32.322705Z",
     "shell.execute_reply": "2022-07-16T17:55:32.334075Z"
    },
    "trusted": true,
    "pycharm": {
     "name": "#%%\n"
    }
   },
   "execution_count": null,
   "outputs": []
  },
  {
   "cell_type": "code",
   "source": [
    "df_train = pd.read_csv(\"./kaggle/train.csv\")\n",
    "df_test = pd.read_csv(\"../kaggle/test.csv\")\n",
    "\n",
    "display(df_train.head())\n",
    "display(df_test.head())"
   ],
   "metadata": {
    "execution": {
     "iopub.status.busy": "2022-07-16T17:55:32.600083Z",
     "iopub.execute_input": "2022-07-16T17:55:32.601136Z",
     "iopub.status.idle": "2022-07-16T17:55:32.642534Z",
     "shell.execute_reply.started": "2022-07-16T17:55:32.601096Z",
     "shell.execute_reply": "2022-07-16T17:55:32.641345Z"
    },
    "trusted": true,
    "pycharm": {
     "name": "#%%\n"
    }
   },
   "execution_count": null,
   "outputs": []
  },
  {
   "cell_type": "markdown",
   "source": [
    "# Exploratory Analysis"
   ],
   "metadata": {
    "pycharm": {
     "name": "#%% md\n"
    }
   }
  },
  {
   "cell_type": "markdown",
   "source": [
    "Распределим предикторы по типу данных - числовые значения (num_var) и категории (cat_var)"
   ],
   "metadata": {
    "pycharm": {
     "name": "#%% md\n"
    }
   }
  },
  {
   "cell_type": "code",
   "source": [
    "num_var = [\"SibSp\", \"Parch\", \"Age\", \"Fare\"]\n",
    "cat_var = [\"Sex\", \"Embarked\", \"Pclass\"]\n",
    "target = \"Survived\""
   ],
   "metadata": {
    "execution": {
     "iopub.status.busy": "2022-07-16T17:55:32.645252Z",
     "iopub.execute_input": "2022-07-16T17:55:32.645757Z",
     "iopub.status.idle": "2022-07-16T17:55:32.651410Z",
     "shell.execute_reply.started": "2022-07-16T17:55:32.645710Z",
     "shell.execute_reply": "2022-07-16T17:55:32.650114Z"
    },
    "trusted": true,
    "pycharm": {
     "name": "#%%\n"
    }
   },
   "execution_count": null,
   "outputs": []
  },
  {
   "cell_type": "code",
   "source": [
    "# Функции визуализации распределения значений в датасете\n",
    "\n",
    "# Функция распределения числовых значений\n",
    "def num_dist(data, var):\n",
    "    fig, ax = plt.subplots(1, 2, figsize=(12, 4))\n",
    "\n",
    "    sns.histplot(data=data, x=var, kde=True, ax=ax[0])\n",
    "    sns.boxplot(data=data, x=var, ax=ax[1])\n",
    "    ax[0].set_title(f\"Гистограмма распределения {var}\")\n",
    "    ax[1].set_title(f\"График распределения {var} \")\n",
    "\n",
    "    plt.show()\n",
    "    \n",
    "# Функция распределения по категориям\n",
    "def cat_dist(data, var):\n",
    "    fig, ax = plt.subplots(1, 2, figsize=(12, 5))\n",
    "\n",
    "    df_train[var].value_counts().plot(kind=\"pie\", explode=[0.05 for x in data[var].dropna().unique()], autopct='%1.1f%%', ax=ax[0], shadow=True)\n",
    "    ax[0].set_title(f\"Круговая диаграмма '{var}'\")\n",
    "    ax[0].set_ylabel('')\n",
    "\n",
    "    count = sns.countplot(x=var, data=df_train, ax=ax[1])\n",
    "    for bar in count.patches:\n",
    "        count.annotate(format(bar.get_height()),\n",
    "            (bar.get_x() + bar.get_width() / 2,\n",
    "            bar.get_height()), ha='center', va='center',\n",
    "            size=11, xytext=(0, 8),\n",
    "            textcoords='offset points')\n",
    "    ax[1].set_title(f\" Столбчатая Диаграмма '{var}'\")\n",
    "    plt.show()"
   ],
   "metadata": {
    "execution": {
     "iopub.status.busy": "2022-07-16T17:55:32.652811Z",
     "iopub.execute_input": "2022-07-16T17:55:32.653147Z",
     "iopub.status.idle": "2022-07-16T17:55:32.668322Z",
     "shell.execute_reply.started": "2022-07-16T17:55:32.653107Z",
     "shell.execute_reply": "2022-07-16T17:55:32.667144Z"
    },
    "trusted": true,
    "pycharm": {
     "name": "#%%\n"
    }
   },
   "execution_count": null,
   "outputs": []
  },
  {
   "cell_type": "markdown",
   "source": [
    "## Выживаемость"
   ],
   "metadata": {
    "pycharm": {
     "name": "#%% md\n"
    }
   }
  },
  {
   "cell_type": "markdown",
   "source": [
    "Посмотрим, сколько человек выжило/не выжило"
   ],
   "metadata": {
    "pycharm": {
     "name": "#%% md\n"
    }
   }
  },
  {
   "cell_type": "code",
   "source": [
    "cat_dist(df_train, \"Survived\")"
   ],
   "metadata": {
    "execution": {
     "iopub.status.busy": "2022-07-16T17:55:32.697213Z",
     "iopub.execute_input": "2022-07-16T17:55:32.697634Z",
     "iopub.status.idle": "2022-07-16T17:55:32.917104Z",
     "shell.execute_reply.started": "2022-07-16T17:55:32.697600Z",
     "shell.execute_reply": "2022-07-16T17:55:32.915838Z"
    },
    "trusted": true,
    "pycharm": {
     "name": "#%%\n"
    }
   },
   "execution_count": null,
   "outputs": []
  },
  {
   "cell_type": "markdown",
   "source": [
    "61,6% пассажиров не выжили. Только 342 из 891 людей из тренировочных данных удалось спастись. Попытаемся выявить факторы, влияющие на выживаемость"
   ],
   "metadata": {
    "pycharm": {
     "name": "#%% md\n"
    }
   }
  },
  {
   "cell_type": "markdown",
   "source": [
    "## Распределение предикторов"
   ],
   "metadata": {
    "pycharm": {
     "name": "#%% md\n"
    }
   }
  },
  {
   "cell_type": "markdown",
   "source": [
    "### Численные значения"
   ],
   "metadata": {
    "pycharm": {
     "name": "#%% md\n"
    }
   }
  },
  {
   "cell_type": "code",
   "source": [
    "df_train[num_var].describe()"
   ],
   "metadata": {
    "execution": {
     "iopub.status.busy": "2022-07-16T17:55:32.929658Z",
     "iopub.execute_input": "2022-07-16T17:55:32.930037Z",
     "iopub.status.idle": "2022-07-16T17:55:32.956561Z",
     "shell.execute_reply.started": "2022-07-16T17:55:32.930005Z",
     "shell.execute_reply": "2022-07-16T17:55:32.955464Z"
    },
    "trusted": true,
    "pycharm": {
     "name": "#%%\n"
    }
   },
   "execution_count": null,
   "outputs": []
  },
  {
   "cell_type": "code",
   "source": [
    "for var in num_var:\n",
    "    num_dist(df_train, var)"
   ],
   "metadata": {
    "execution": {
     "iopub.status.busy": "2022-07-16T17:55:32.970545Z",
     "iopub.execute_input": "2022-07-16T17:55:32.970944Z",
     "iopub.status.idle": "2022-07-16T17:55:34.314335Z",
     "shell.execute_reply.started": "2022-07-16T17:55:32.970909Z",
     "shell.execute_reply": "2022-07-16T17:55:34.313317Z"
    },
    "trusted": true,
    "pycharm": {
     "name": "#%%\n"
    }
   },
   "execution_count": null,
   "outputs": []
  },
  {
   "cell_type": "markdown",
   "source": [
    "Большинство путешествовало без семей (показатель SibSp). Возраст колеблется от 0.42 до 80 лет, в среднем 29.7 лет (показатель Age). Некоторые пассажиры не платили за поездку."
   ],
   "metadata": {
    "pycharm": {
     "name": "#%% md\n"
    }
   }
  },
  {
   "cell_type": "markdown",
   "source": [
    "### Категории"
   ],
   "metadata": {
    "pycharm": {
     "name": "#%% md\n"
    }
   }
  },
  {
   "cell_type": "code",
   "source": [
    "for var in cat_var:\n",
    "    cat_dist(df_train, var)"
   ],
   "metadata": {
    "execution": {
     "iopub.status.busy": "2022-07-16T17:55:34.316591Z",
     "iopub.execute_input": "2022-07-16T17:55:34.316926Z",
     "iopub.status.idle": "2022-07-16T17:55:34.998029Z",
     "shell.execute_reply.started": "2022-07-16T17:55:34.316888Z",
     "shell.execute_reply": "2022-07-16T17:55:34.996657Z"
    },
    "trusted": true,
    "pycharm": {
     "name": "#%%\n"
    }
   },
   "execution_count": null,
   "outputs": []
  },
  {
   "cell_type": "markdown",
   "source": [
    "64.8% пассажиров - мужчины. Более 70% пассажиров зашли на борт в Саутгемптоне (порт S), почти 19% в Квинстауне (Q), и только 8.7% в Шербуре (C). Большинство ехало 3-м классом."
   ],
   "metadata": {
    "pycharm": {
     "name": "#%% md\n"
    }
   }
  },
  {
   "cell_type": "markdown",
   "source": [
    "## Сравнение показателей у выживших и невыживших"
   ],
   "metadata": {
    "pycharm": {
     "name": "#%% md\n"
    }
   }
  },
  {
   "cell_type": "code",
   "source": [
    "fig, ax = plt.subplots(2, 4, figsize=(20, 8))\n",
    "ax = ax.flatten()\n",
    "\n",
    "for i, var in enumerate(num_var+cat_var):\n",
    "    if i < 4:\n",
    "        sns.histplot(data=df_train, x=var, hue=target, kde=True, ax=ax[i])\n",
    "    else:\n",
    "        sns.countplot(data=df_train, x=var, hue=target, ax=ax[i])\n",
    "    \n",
    "    ax[i].set_title(f\"{var}\")\n",
    "    \n",
    "plt.subplots_adjust(hspace=0.5)\n",
    "plt.show()"
   ],
   "metadata": {
    "execution": {
     "iopub.status.busy": "2022-07-16T17:55:35.001542Z",
     "iopub.execute_input": "2022-07-16T17:55:35.001888Z",
     "iopub.status.idle": "2022-07-16T17:55:36.986244Z",
     "shell.execute_reply.started": "2022-07-16T17:55:35.001856Z",
     "shell.execute_reply": "2022-07-16T17:55:36.985144Z"
    },
    "trusted": true,
    "pycharm": {
     "name": "#%%\n"
    }
   },
   "execution_count": null,
   "outputs": []
  },
  {
   "cell_type": "markdown",
   "source": [
    "Результаты:\n",
    "* Путешествующие без семьи имели большие шансы выжить.\n",
    "* Выжили в основном дети и молодые люди, с увеличением возраста выживаемость уменьшается. \n",
    "* Процент выживаемости у женщин намного больше, чем у мужчин. \n",
    "* Пассажиры, зашедшие в Саутгемптоне, имеют наименьшую выживаемость. У остальных процент выживаемости намного выше. \n",
    "* Подавляющее большинство пассажиров 3 класса не выжило. Большая часть пассажирова 1 класса выжила.\n"
   ],
   "metadata": {
    "pycharm": {
     "name": "#%% md\n"
    }
   }
  },
  {
   "cell_type": "code",
   "source": [
    "sns.violinplot(data=df_train, x=\"Sex\", y=\"Age\", hue=\"Survived\", split=True)\n",
    "plt.show()"
   ],
   "metadata": {
    "execution": {
     "iopub.status.busy": "2022-07-16T17:55:36.989905Z",
     "iopub.execute_input": "2022-07-16T17:55:36.990305Z",
     "iopub.status.idle": "2022-07-16T17:55:37.173887Z",
     "shell.execute_reply.started": "2022-07-16T17:55:36.990252Z",
     "shell.execute_reply": "2022-07-16T17:55:37.172745Z"
    },
    "trusted": true,
    "pycharm": {
     "name": "#%%\n"
    }
   },
   "execution_count": null,
   "outputs": []
  },
  {
   "cell_type": "markdown",
   "source": [
    "Видно, что у мальчиков и женщин пожилого возраста выживаемость больше."
   ],
   "metadata": {
    "pycharm": {
     "name": "#%% md\n"
    }
   }
  },
  {
   "cell_type": "code",
   "source": [
    "fig, ax = plt.subplots(1, 2, figsize=(12, 4))\n",
    "\n",
    "for i, var in enumerate([\"SibSp\", \"Parch\"]):\n",
    "    surv = sns.barplot(data=df_train, x=var, y=target, ax=ax[i], ci=None)\n",
    "    for bar in surv.patches:\n",
    "        surv.annotate(format(\"{:.3f}\".format(bar.get_height())),\n",
    "            (bar.get_x() + bar.get_width() / 2,\n",
    "            bar.get_height()), ha='center', va='center',\n",
    "            size=11, xytext=(0, 8),\n",
    "            textcoords='offset points')\n",
    "        \n",
    "    ax[i].set_title(f\"{var} Survival Rate\")"
   ],
   "metadata": {
    "execution": {
     "iopub.status.busy": "2022-07-16T17:55:37.175235Z",
     "iopub.execute_input": "2022-07-16T17:55:37.175574Z",
     "iopub.status.idle": "2022-07-16T17:55:37.497468Z",
     "shell.execute_reply.started": "2022-07-16T17:55:37.175542Z",
     "shell.execute_reply": "2022-07-16T17:55:37.496532Z"
    },
    "trusted": true,
    "pycharm": {
     "name": "#%%\n"
    }
   },
   "execution_count": null,
   "outputs": []
  },
  {
   "cell_type": "markdown",
   "source": [
    "График демонстрирует тенденцию к выживаемости у людей с небольшим количеством родственников-спутников. При этом наибольший процент не у одиноких пассажиров, а именно у пар и троек родственных пассажиров."
   ],
   "metadata": {
    "pycharm": {
     "name": "#%% md\n"
    }
   }
  },
  {
   "cell_type": "code",
   "source": [
    "fig, ax = plt.subplots(1, 3, figsize=(20, 6))\n",
    "\n",
    "for i, pc in enumerate(sorted(df_train[\"Pclass\"].unique())):\n",
    "    sns.histplot(data=df_train[df_train[\"Pclass\"]==pc], x=\"Fare\", hue=target, kde=True, ax=ax[i])\n",
    "    ax[i].set_title(f\"Fare in Pclass {pc} Survival Rate\")"
   ],
   "metadata": {
    "execution": {
     "iopub.status.busy": "2022-07-16T17:55:37.501049Z",
     "iopub.execute_input": "2022-07-16T17:55:37.501423Z",
     "iopub.status.idle": "2022-07-16T17:55:38.400720Z",
     "shell.execute_reply.started": "2022-07-16T17:55:37.501389Z",
     "shell.execute_reply": "2022-07-16T17:55:38.399620Z"
    },
    "trusted": true,
    "pycharm": {
     "name": "#%%\n"
    }
   },
   "execution_count": null,
   "outputs": []
  },
  {
   "cell_type": "markdown",
   "source": [
    "У пассажиров, заплативших больше, прослеживается тенденция к большей выживаемости. Хотя гарантий тоже не прослеживается: многие пассажиры 2го класса, заплатившие больше всего, не выжили."
   ],
   "metadata": {
    "pycharm": {
     "name": "#%% md\n"
    }
   }
  },
  {
   "cell_type": "markdown",
   "source": [
    "# Подбор параметров"
   ],
   "metadata": {
    "pycharm": {
     "name": "#%% md\n"
    }
   }
  },
  {
   "cell_type": "markdown",
   "source": [
    "##  PassengerId"
   ],
   "metadata": {
    "pycharm": {
     "name": "#%% md\n"
    }
   }
  },
  {
   "cell_type": "markdown",
   "source": [
    "Удалим ненужный параметр ID"
   ],
   "metadata": {
    "pycharm": {
     "name": "#%% md\n"
    }
   }
  },
  {
   "cell_type": "code",
   "source": [
    "df_train_prep = df_train.drop(\"PassengerId\", axis=1)\n",
    "df_test_prep = df_test.drop(\"PassengerId\", axis=1)"
   ],
   "metadata": {
    "execution": {
     "iopub.status.busy": "2022-07-16T17:55:38.402378Z",
     "iopub.execute_input": "2022-07-16T17:55:38.402758Z",
     "iopub.status.idle": "2022-07-16T17:55:38.410016Z",
     "shell.execute_reply.started": "2022-07-16T17:55:38.402726Z",
     "shell.execute_reply": "2022-07-16T17:55:38.409006Z"
    },
    "trusted": true,
    "pycharm": {
     "name": "#%%\n"
    }
   },
   "execution_count": null,
   "outputs": []
  },
  {
   "cell_type": "markdown",
   "source": [
    "## Name"
   ],
   "metadata": {
    "pycharm": {
     "name": "#%% md\n"
    }
   }
  },
  {
   "cell_type": "code",
   "source": [
    "df_train[\"Name\"]"
   ],
   "metadata": {
    "execution": {
     "iopub.status.busy": "2022-07-16T17:55:38.411962Z",
     "iopub.execute_input": "2022-07-16T17:55:38.412433Z",
     "iopub.status.idle": "2022-07-16T17:55:38.426697Z",
     "shell.execute_reply.started": "2022-07-16T17:55:38.412387Z",
     "shell.execute_reply": "2022-07-16T17:55:38.425618Z"
    },
    "trusted": true,
    "pycharm": {
     "name": "#%%\n"
    }
   },
   "execution_count": null,
   "outputs": []
  },
  {
   "cell_type": "markdown",
   "source": [
    " В имени можно выделить титулы (Mr, Mrs, Miss, и т.д.) по наличию точки."
   ],
   "metadata": {
    "pycharm": {
     "name": "#%% md\n"
    }
   }
  },
  {
   "cell_type": "code",
   "source": [
    "df_train_prep[\"Title\"] = df_train_prep[\"Name\"].str.extract('([A-Za-z]+)\\.')\n",
    "df_test_prep[\"Title\"] = df_test_prep[\"Name\"].str.extract('([A-Za-z]+)\\.')\n",
    "\n",
    "df_train_prep[\"Title\"].value_counts()"
   ],
   "metadata": {
    "execution": {
     "iopub.status.busy": "2022-07-16T17:55:38.428573Z",
     "iopub.execute_input": "2022-07-16T17:55:38.429589Z",
     "iopub.status.idle": "2022-07-16T17:55:38.449741Z",
     "shell.execute_reply.started": "2022-07-16T17:55:38.429536Z",
     "shell.execute_reply": "2022-07-16T17:55:38.448336Z"
    },
    "trusted": true,
    "pycharm": {
     "name": "#%%\n"
    }
   },
   "execution_count": null,
   "outputs": []
  },
  {
   "cell_type": "markdown",
   "source": [
    "Объединим некоторые титулы по смыслу и важности в условии задачи"
   ],
   "metadata": {
    "pycharm": {
     "name": "#%% md\n"
    }
   }
  },
  {
   "cell_type": "code",
   "source": [
    "def convert_title(title):\n",
    "    if title in [\"Ms\", \"Mile\", \"Miss\"]:\n",
    "        return \"Miss\"\n",
    "    elif title in [\"Mme\", \"Mrs\"]:\n",
    "        return \"Mrs\"\n",
    "    elif title == \"Mr\":\n",
    "        return \"Mr\"\n",
    "    elif title == \"Master\":\n",
    "        return \"Master\"\n",
    "    else:\n",
    "        return \"Other\"\n",
    "        \n",
    "df_train_prep[\"Title\"] = df_train_prep[\"Title\"].map(convert_title)\n",
    "df_test_prep[\"Title\"] = df_test_prep[\"Title\"].map(convert_title)\n",
    "\n",
    "df_train_prep[\"Title\"].value_counts()"
   ],
   "metadata": {
    "execution": {
     "iopub.status.busy": "2022-07-16T17:55:38.453742Z",
     "iopub.execute_input": "2022-07-16T17:55:38.454748Z",
     "iopub.status.idle": "2022-07-16T17:55:38.469996Z",
     "shell.execute_reply.started": "2022-07-16T17:55:38.454697Z",
     "shell.execute_reply": "2022-07-16T17:55:38.468761Z"
    },
    "trusted": true,
    "pycharm": {
     "name": "#%%\n"
    }
   },
   "execution_count": null,
   "outputs": []
  },
  {
   "cell_type": "markdown",
   "source": [
    "Теперь переменная имени нам больше не нужна"
   ],
   "metadata": {
    "pycharm": {
     "name": "#%% md\n"
    }
   }
  },
  {
   "cell_type": "code",
   "source": [
    "df_train_prep = df_train_prep.drop(\"Name\", axis=1)\n",
    "df_test_prep = df_test_prep.drop(\"Name\", axis=1)"
   ],
   "metadata": {
    "execution": {
     "iopub.status.busy": "2022-07-16T17:55:38.471655Z",
     "iopub.execute_input": "2022-07-16T17:55:38.471964Z",
     "iopub.status.idle": "2022-07-16T17:55:38.486362Z",
     "shell.execute_reply.started": "2022-07-16T17:55:38.471937Z",
     "shell.execute_reply": "2022-07-16T17:55:38.485389Z"
    },
    "trusted": true,
    "pycharm": {
     "name": "#%%\n"
    }
   },
   "execution_count": null,
   "outputs": []
  },
  {
   "cell_type": "markdown",
   "source": [
    "## Ticket"
   ],
   "metadata": {
    "pycharm": {
     "name": "#%% md\n"
    }
   }
  },
  {
   "cell_type": "code",
   "source": [
    "df_train_prep[\"Ticket\"]"
   ],
   "metadata": {
    "execution": {
     "iopub.status.busy": "2022-07-16T17:55:38.487782Z",
     "iopub.execute_input": "2022-07-16T17:55:38.488650Z",
     "iopub.status.idle": "2022-07-16T17:55:38.497934Z",
     "shell.execute_reply.started": "2022-07-16T17:55:38.488612Z",
     "shell.execute_reply": "2022-07-16T17:55:38.497063Z"
    },
    "trusted": true,
    "pycharm": {
     "name": "#%%\n"
    }
   },
   "execution_count": null,
   "outputs": []
  },
  {
   "cell_type": "markdown",
   "source": [
    "Номер каждого билета уникален, и никакой полезной информации из него получить нельзя, поэтому удалим данный параметр."
   ],
   "metadata": {
    "pycharm": {
     "name": "#%% md\n"
    }
   }
  },
  {
   "cell_type": "code",
   "source": [
    "df_train_prep = df_train_prep.drop(\"Ticket\", axis=1)\n",
    "df_test_prep = df_test_prep.drop(\"Ticket\", axis=1)"
   ],
   "metadata": {
    "execution": {
     "iopub.status.busy": "2022-07-16T17:55:38.499429Z",
     "iopub.execute_input": "2022-07-16T17:55:38.499804Z",
     "iopub.status.idle": "2022-07-16T17:55:38.507895Z",
     "shell.execute_reply.started": "2022-07-16T17:55:38.499762Z",
     "shell.execute_reply": "2022-07-16T17:55:38.506776Z"
    },
    "trusted": true,
    "pycharm": {
     "name": "#%%\n"
    }
   },
   "execution_count": null,
   "outputs": []
  },
  {
   "cell_type": "markdown",
   "source": [
    "Перед дальнейшим анализом заметим, что в датасетах присутствуют параметры с множеством значений Null. Это такие параметры, как Age и Cabin"
   ],
   "metadata": {
    "pycharm": {
     "name": "#%% md\n"
    }
   }
  },
  {
   "cell_type": "code",
   "source": [
    "pd.DataFrame(data = [df_train.isna().sum()/df_train.shape[0]*100, df_test.isna().sum()/df_test.shape[0]*100], index=[\"Train Null (%)\", \"Test Null (%)\"]).T.style.background_gradient(cmap='summer_r')"
   ],
   "metadata": {
    "execution": {
     "iopub.status.busy": "2022-07-16T17:55:38.509259Z",
     "iopub.execute_input": "2022-07-16T17:55:38.509735Z",
     "iopub.status.idle": "2022-07-16T17:55:38.535046Z",
     "shell.execute_reply.started": "2022-07-16T17:55:38.509659Z",
     "shell.execute_reply": "2022-07-16T17:55:38.534156Z"
    },
    "trusted": true,
    "pycharm": {
     "name": "#%%\n"
    }
   },
   "execution_count": null,
   "outputs": []
  },
  {
   "cell_type": "markdown",
   "source": [
    "## Cabin"
   ],
   "metadata": {
    "pycharm": {
     "name": "#%% md\n"
    }
   }
  },
  {
   "cell_type": "markdown",
   "source": [
    "Полезной информации из номеров каюты, кажется, не достать, поэтому этот параметр тоже уберем"
   ],
   "metadata": {
    "pycharm": {
     "name": "#%% md\n"
    }
   }
  },
  {
   "cell_type": "code",
   "source": [
    "df_train_prep = df_train_prep.drop(\"Cabin\", axis=1)\n",
    "df_test_prep = df_test_prep.drop(\"Cabin\", axis=1)"
   ],
   "metadata": {
    "execution": {
     "iopub.status.busy": "2022-07-16T17:55:38.536334Z",
     "iopub.execute_input": "2022-07-16T17:55:38.537041Z",
     "iopub.status.idle": "2022-07-16T17:55:38.543939Z",
     "shell.execute_reply.started": "2022-07-16T17:55:38.537004Z",
     "shell.execute_reply": "2022-07-16T17:55:38.542970Z"
    },
    "trusted": true,
    "pycharm": {
     "name": "#%%\n"
    }
   },
   "execution_count": null,
   "outputs": []
  },
  {
   "cell_type": "markdown",
   "source": [
    "## Age"
   ],
   "metadata": {
    "pycharm": {
     "name": "#%% md\n"
    }
   }
  },
  {
   "cell_type": "markdown",
   "source": [
    "Параметр возраст у многих пассажиров пропущен, хотя на основе предыдущего анализа выглядит довольно важным. Необходимо провести подстановку значений этого параметра. Для этого попробуем проверить корелляцию с параметром титула, выявленном ранее."
   ],
   "metadata": {
    "pycharm": {
     "name": "#%% md\n"
    }
   }
  },
  {
   "cell_type": "code",
   "source": [
    "sns.violinplot(data=df_train_prep, x=\"Title\", y=\"Age\")\n",
    "plt.show()"
   ],
   "metadata": {
    "execution": {
     "iopub.status.busy": "2022-07-16T17:55:38.545015Z",
     "iopub.execute_input": "2022-07-16T17:55:38.546044Z",
     "iopub.status.idle": "2022-07-16T17:55:38.753944Z",
     "shell.execute_reply.started": "2022-07-16T17:55:38.546009Z",
     "shell.execute_reply": "2022-07-16T17:55:38.752801Z"
    },
    "trusted": true,
    "pycharm": {
     "name": "#%%\n"
    }
   },
   "execution_count": null,
   "outputs": []
  },
  {
   "cell_type": "markdown",
   "source": [
    "На основе этих данных можно выявить вероятный возраст пассажира, принадлежащего к определенной группе"
   ],
   "metadata": {
    "pycharm": {
     "name": "#%% md\n"
    }
   }
  },
  {
   "cell_type": "code",
   "source": [
    "df_train_prep.groupby('Title')['Age'].median()"
   ],
   "metadata": {
    "execution": {
     "iopub.status.busy": "2022-07-16T17:55:38.755586Z",
     "iopub.execute_input": "2022-07-16T17:55:38.755902Z",
     "iopub.status.idle": "2022-07-16T17:55:38.764783Z",
     "shell.execute_reply.started": "2022-07-16T17:55:38.755873Z",
     "shell.execute_reply": "2022-07-16T17:55:38.763802Z"
    },
    "trusted": true,
    "pycharm": {
     "name": "#%%\n"
    }
   },
   "execution_count": null,
   "outputs": []
  },
  {
   "cell_type": "markdown",
   "source": [
    "Заполним пустые поля медианными значениями в каждой группе"
   ],
   "metadata": {
    "pycharm": {
     "name": "#%% md\n"
    }
   }
  },
  {
   "cell_type": "code",
   "source": [
    "df_train_prep.loc[(df_train_prep.Age.isnull()) & (df_train_prep[\"Title\"]=='Master'), 'Age'] = 4\n",
    "df_train_prep.loc[(df_train_prep.Age.isnull()) & (df_train_prep[\"Title\"]=='Miss'), 'Age'] = 21\n",
    "df_train_prep.loc[(df_train_prep.Age.isnull()) & (df_train_prep[\"Title\"]=='Mr'), 'Age'] = 30\n",
    "df_train_prep.loc[(df_train_prep.Age.isnull()) & (df_train_prep[\"Title\"]=='Mrs'), 'Age'] = 35\n",
    "df_train_prep.loc[(df_train_prep.Age.isnull()) & (df_train_prep[\"Title\"]=='Other'), 'Age'] = 47"
   ],
   "metadata": {
    "execution": {
     "iopub.status.busy": "2022-07-16T17:55:38.765860Z",
     "iopub.execute_input": "2022-07-16T17:55:38.766816Z",
     "iopub.status.idle": "2022-07-16T17:55:38.779241Z",
     "shell.execute_reply.started": "2022-07-16T17:55:38.766780Z",
     "shell.execute_reply": "2022-07-16T17:55:38.778481Z"
    },
    "trusted": true,
    "pycharm": {
     "name": "#%%\n"
    }
   },
   "execution_count": null,
   "outputs": []
  },
  {
   "cell_type": "code",
   "source": [
    "df_test_prep.loc[(df_test_prep.Age.isnull())&(df_test_prep[\"Title\"]=='Master'), 'Age'] = 4\n",
    "df_test_prep.loc[(df_test_prep.Age.isnull())&(df_test_prep[\"Title\"]=='Miss'), 'Age'] = 21\n",
    "df_test_prep.loc[(df_test_prep.Age.isnull())&(df_test_prep[\"Title\"]=='Mr'), 'Age'] = 30\n",
    "df_test_prep.loc[(df_test_prep.Age.isnull())&(df_test_prep[\"Title\"]=='Mrs'), 'Age'] = 35\n",
    "df_test_prep.loc[(df_test_prep.Age.isnull())&(df_test_prep[\"Title\"]=='Other'), 'Age'] = 47"
   ],
   "metadata": {
    "execution": {
     "iopub.status.busy": "2022-07-16T17:55:38.780563Z",
     "iopub.execute_input": "2022-07-16T17:55:38.781094Z",
     "iopub.status.idle": "2022-07-16T17:55:38.792606Z",
     "shell.execute_reply.started": "2022-07-16T17:55:38.781064Z",
     "shell.execute_reply": "2022-07-16T17:55:38.791785Z"
    },
    "trusted": true,
    "pycharm": {
     "name": "#%%\n"
    }
   },
   "execution_count": null,
   "outputs": []
  },
  {
   "cell_type": "markdown",
   "source": [
    "## Fare"
   ],
   "metadata": {
    "pycharm": {
     "name": "#%% md\n"
    }
   }
  },
  {
   "cell_type": "markdown",
   "source": [
    "У этого параметра тоже ест пропущенные значения, так что попробуем подставить и их"
   ],
   "metadata": {
    "pycharm": {
     "name": "#%% md\n"
    }
   }
  },
  {
   "cell_type": "code",
   "source": [
    "df_train_prep.corr()[\"Fare\"].sort_values(ascending=False)"
   ],
   "metadata": {
    "execution": {
     "iopub.status.busy": "2022-07-16T17:55:38.793873Z",
     "iopub.execute_input": "2022-07-16T17:55:38.794636Z",
     "iopub.status.idle": "2022-07-16T17:55:38.803895Z",
     "shell.execute_reply.started": "2022-07-16T17:55:38.794604Z",
     "shell.execute_reply": "2022-07-16T17:55:38.803157Z"
    },
    "trusted": true,
    "pycharm": {
     "name": "#%%\n"
    }
   },
   "execution_count": null,
   "outputs": []
  },
  {
   "cell_type": "markdown",
   "source": [
    "Параметр Pclass имеет неплохую отрецательную корелляцию с Fare. Используем этот факт"
   ],
   "metadata": {
    "pycharm": {
     "name": "#%% md\n"
    }
   }
  },
  {
   "cell_type": "code",
   "source": [
    "df_test_prep[df_test_prep[\"Fare\"].isna()]"
   ],
   "metadata": {
    "execution": {
     "iopub.status.busy": "2022-07-16T17:55:38.805120Z",
     "iopub.execute_input": "2022-07-16T17:55:38.806167Z",
     "iopub.status.idle": "2022-07-16T17:55:38.823070Z",
     "shell.execute_reply.started": "2022-07-16T17:55:38.806120Z",
     "shell.execute_reply": "2022-07-16T17:55:38.822178Z"
    },
    "trusted": true,
    "pycharm": {
     "name": "#%%\n"
    }
   },
   "execution_count": null,
   "outputs": []
  },
  {
   "cell_type": "markdown",
   "source": [
    "Pclass = 3"
   ],
   "metadata": {
    "pycharm": {
     "name": "#%% md\n"
    }
   }
  },
  {
   "cell_type": "code",
   "source": [
    "df_test_prep.Fare.fillna(df_train.groupby(\"Pclass\").median()[\"Fare\"][3], inplace=True)"
   ],
   "metadata": {
    "execution": {
     "iopub.status.busy": "2022-07-16T17:55:38.825231Z",
     "iopub.execute_input": "2022-07-16T17:55:38.826283Z",
     "iopub.status.idle": "2022-07-16T17:55:38.834832Z",
     "shell.execute_reply.started": "2022-07-16T17:55:38.826231Z",
     "shell.execute_reply": "2022-07-16T17:55:38.833958Z"
    },
    "trusted": true,
    "pycharm": {
     "name": "#%%\n"
    }
   },
   "execution_count": null,
   "outputs": []
  },
  {
   "cell_type": "markdown",
   "source": [
    "## Категории"
   ],
   "metadata": {
    "pycharm": {
     "name": "#%% md\n"
    }
   }
  },
  {
   "cell_type": "code",
   "source": [
    "df_train_prep = pd.get_dummies(df_train_prep, prefix=[\"Sex\", \"Embarked\", \"Title\"])\n",
    "df_test_prep = pd.get_dummies(df_test_prep, prefix=[\"Sex\", \"Embarked\", \"Title\"])"
   ],
   "metadata": {
    "execution": {
     "iopub.status.busy": "2022-07-16T17:55:38.836512Z",
     "iopub.execute_input": "2022-07-16T17:55:38.837122Z",
     "iopub.status.idle": "2022-07-16T17:55:39.280343Z",
     "shell.execute_reply.started": "2022-07-16T17:55:38.837091Z",
     "shell.execute_reply": "2022-07-16T17:55:39.279342Z"
    },
    "trusted": true,
    "pycharm": {
     "name": "#%%\n"
    }
   },
   "execution_count": null,
   "outputs": []
  },
  {
   "cell_type": "markdown",
   "source": [
    "# Построение модели"
   ],
   "metadata": {
    "pycharm": {
     "name": "#%% md\n"
    }
   }
  },
  {
   "cell_type": "code",
   "source": [
    "X_train = df_train_prep.drop(\"Survived\", axis=1)\n",
    "y_train = df_train_prep.Survived\n",
    "\n",
    "X_test = df_test_prep.copy()"
   ],
   "metadata": {
    "execution": {
     "iopub.status.busy": "2022-07-16T17:55:39.281682Z",
     "iopub.execute_input": "2022-07-16T17:55:39.281979Z",
     "iopub.status.idle": "2022-07-16T17:55:39.292264Z",
     "shell.execute_reply.started": "2022-07-16T17:55:39.281953Z",
     "shell.execute_reply": "2022-07-16T17:55:39.291193Z"
    },
    "trusted": true,
    "pycharm": {
     "name": "#%%\n"
    }
   },
   "execution_count": null,
   "outputs": []
  },
  {
   "cell_type": "markdown",
   "source": [
    "## Скейлинг параметров"
   ],
   "metadata": {
    "pycharm": {
     "name": "#%% md\n"
    }
   }
  },
  {
   "cell_type": "code",
   "source": [
    "scaler = StandardScaler()\n",
    "\n",
    "X_train_scaled = scaler.fit_transform(X_train)\n",
    "X_test_scaled = scaler.transform(X_test)"
   ],
   "metadata": {
    "execution": {
     "iopub.status.busy": "2022-07-16T17:55:39.293690Z",
     "iopub.execute_input": "2022-07-16T17:55:39.294441Z",
     "iopub.status.idle": "2022-07-16T17:55:39.304251Z",
     "shell.execute_reply.started": "2022-07-16T17:55:39.294409Z",
     "shell.execute_reply": "2022-07-16T17:55:39.303519Z"
    },
    "trusted": true,
    "pycharm": {
     "name": "#%%\n"
    }
   },
   "execution_count": null,
   "outputs": []
  },
  {
   "cell_type": "code",
   "source": [
    "classifiers = {\n",
    "    \"KNN\": KNeighborsClassifier(), \n",
    "    \"LR\": LogisticRegression(max_iter=1000), \n",
    "    \"DT\": DecisionTreeClassifier(),\n",
    "    \"RF\": RandomForestClassifier(),\n",
    "    \"SVM\": SVC(),\n",
    "    \"MLP\": MLPClassifier(max_iter=1000),\n",
    "    \"XGB\": XGBClassifier(),\n",
    "    \"LGBM\": LGBMClassifier()\n",
    "}\n",
    "\n",
    "results = dict()\n",
    "for name, clf in classifiers.items():\n",
    "    model = clf\n",
    "    cv_results = cross_validate(\n",
    "        model, X_train_scaled, y_train, cv=5,\n",
    "        scoring=('accuracy')\n",
    "    )\n",
    "\n",
    "    results[name] = cv_results['test_score'].mean()\n",
    "    \n",
    "results"
   ],
   "metadata": {
    "execution": {
     "iopub.status.busy": "2022-07-16T17:55:39.305455Z",
     "iopub.execute_input": "2022-07-16T17:55:39.306187Z",
     "iopub.status.idle": "2022-07-16T17:56:08.475827Z",
     "shell.execute_reply.started": "2022-07-16T17:55:39.306157Z",
     "shell.execute_reply": "2022-07-16T17:56:08.474772Z"
    },
    "trusted": true,
    "pycharm": {
     "name": "#%%\n"
    }
   },
   "execution_count": null,
   "outputs": []
  },
  {
   "cell_type": "code",
   "source": [
    "import warnings\n",
    "warnings.filterwarnings(\"ignore\")\n",
    "\n",
    "lgbm = LGBMClassifier(random_state=0)\n",
    "params = {\n",
    "    \"boosting_type\": [\"gbdt\", \"dart\", \"goss\"],\n",
    "    \"learning_rate\": [0.1, 0.05, 0.01],\n",
    "    \"n_estimators\": [10, 50, 100, 300]\n",
    "}\n",
    "clf = GridSearchCV(lgbm, params, cv=10)\n",
    "clf.fit(X_train_scaled, y_train)\n",
    "print(\"Best hyperparameter:\", clf.best_params_)"
   ],
   "metadata": {
    "execution": {
     "iopub.status.busy": "2022-07-16T18:04:33.373110Z",
     "iopub.execute_input": "2022-07-16T18:04:33.373598Z",
     "iopub.status.idle": "2022-07-16T18:05:16.208580Z",
     "shell.execute_reply.started": "2022-07-16T18:04:33.373550Z",
     "shell.execute_reply": "2022-07-16T18:05:16.207568Z"
    },
    "trusted": true,
    "pycharm": {
     "name": "#%%\n"
    }
   },
   "execution_count": null,
   "outputs": []
  },
  {
   "cell_type": "code",
   "source": [
    "y_pred = clf.predict(X_train_scaled)\n",
    "print(classification_report(y_train, y_pred))"
   ],
   "metadata": {
    "execution": {
     "iopub.status.busy": "2022-07-16T18:05:16.210712Z",
     "iopub.execute_input": "2022-07-16T18:05:16.211432Z",
     "iopub.status.idle": "2022-07-16T18:05:16.237036Z",
     "shell.execute_reply.started": "2022-07-16T18:05:16.211393Z",
     "shell.execute_reply": "2022-07-16T18:05:16.234385Z"
    },
    "trusted": true,
    "pycharm": {
     "name": "#%%\n"
    }
   },
   "execution_count": null,
   "outputs": []
  },
  {
   "cell_type": "code",
   "source": [
    "y_pred = clf.predict(X_test_scaled)\n",
    "\n",
    "submission = pd.DataFrame({\n",
    "         \"PassengerId\": df_test[\"PassengerId\"],\n",
    "         \"Survived\": y_pred\n",
    "     })\n",
    "submission.to_csv('prediction.csv', index=False)"
   ],
   "metadata": {
    "execution": {
     "iopub.status.busy": "2022-07-16T17:57:07.340986Z",
     "iopub.execute_input": "2022-07-16T17:57:07.341736Z",
     "iopub.status.idle": "2022-07-16T17:57:07.354053Z",
     "shell.execute_reply.started": "2022-07-16T17:57:07.341699Z",
     "shell.execute_reply": "2022-07-16T17:57:07.353133Z"
    },
    "trusted": true,
    "pycharm": {
     "name": "#%%\n"
    }
   },
   "execution_count": null,
   "outputs": []
  }
 ]
}